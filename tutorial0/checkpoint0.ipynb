{
  "metadata": {
    "kernelspec": {
      "name": "python",
      "display_name": "Python (Pyodide)",
      "language": "python"
    },
    "language_info": {
      "codemirror_mode": {
        "name": "python",
        "version": 3
      },
      "file_extension": ".py",
      "mimetype": "text/x-python",
      "name": "python",
      "nbconvert_exporter": "python",
      "pygments_lexer": "ipython3",
      "version": "3.8"
    },
    "vscode": {
      "interpreter": {
        "hash": "6cf8df3ff69f85f626faf55c10df6fe2cb9d1236b4dc73844ee4dc01369c2c99"
      }
    }
  },
  "nbformat_minor": 5,
  "nbformat": 4,
  "cells": [
    {
      "cell_type": "markdown",
      "source": "# Checkpoint 0 ",
      "metadata": {
        "colab_type": "text",
        "id": "0a8IYAJUshu1"
      },
      "id": "9ae84e6d-841c-4f98-9899-b0c19d31ea21"
    },
    {
      "cell_type": "markdown",
      "source": "These exercises are a mix of Python and Pandas practice. Most should be no more than a few lines of code! ",
      "metadata": {},
      "id": "ea3a3722-25d4-409c-8d2a-c11251a6d41a"
    },
    {
      "cell_type": "code",
      "source": "# here is a Python list:\n\na = [1, 2, 3, 4, 5, 6]\n",
      "metadata": {
        "colab": {},
        "colab_type": "code",
        "id": "Jo6wuTgkshu1",
        "trusted": true
      },
      "execution_count": 1,
      "outputs": [],
      "id": "e4df865c-0fb6-4aee-b132-fcb9837c3e76"
    },
    {
      "cell_type": "code",
      "source": "# get a list containing the last 3 elements of a\n# Yes, you can just type out [4, 5, 6] but we really want to see you demonstrate you know how to do that in Python\n\na[-3:]",
      "metadata": {
        "trusted": true
      },
      "execution_count": 3,
      "outputs": [
        {
          "execution_count": 3,
          "output_type": "execute_result",
          "data": {
            "text/plain": "[4, 5, 6]"
          },
          "metadata": {}
        }
      ],
      "id": "779d96b1"
    },
    {
      "cell_type": "code",
      "source": "# create a list of numbers from 1 to 100\na= list(range(1,101))",
      "metadata": {
        "trusted": true
      },
      "execution_count": 54,
      "outputs": [],
      "id": "b6a54def"
    },
    {
      "cell_type": "code",
      "source": "# now get a list with only the even numbers between 1 and 100\n# you may or may not make use of the list you made in the last cell\nb=[]\n\nfor i in range(len(a)):\n    if a[i] % 2 == 0:\n        b.append(a[i])\n        ",
      "metadata": {
        "trusted": true
      },
      "execution_count": 30,
      "outputs": [],
      "id": "487873ac"
    },
    {
      "cell_type": "code",
      "source": "# write a function that takes two numbers as arguments\n# and returns the first number divided by the second\n\ndef two_nums(a,b):\n    c = a/b\n    return c\n",
      "metadata": {
        "trusted": true
      },
      "execution_count": 31,
      "outputs": [],
      "id": "3d4bb5dd"
    },
    {
      "cell_type": "code",
      "source": "two_nums(3,6)",
      "metadata": {
        "trusted": true
      },
      "execution_count": 32,
      "outputs": [
        {
          "execution_count": 32,
          "output_type": "execute_result",
          "data": {
            "text/plain": "0.5"
          },
          "metadata": {}
        }
      ],
      "id": "ff9a28d7-e081-4bd9-9eaa-f53eee3267c7"
    },
    {
      "cell_type": "code",
      "source": "# write a function that takes a string as input\n# and return that string in all caps\n\ndef all_caps(str):\n    return str.upper()",
      "metadata": {
        "trusted": true
      },
      "execution_count": 33,
      "outputs": [],
      "id": "b93669fa"
    },
    {
      "cell_type": "code",
      "source": "all_caps(\"hello\")",
      "metadata": {
        "trusted": true
      },
      "execution_count": 35,
      "outputs": [
        {
          "execution_count": 35,
          "output_type": "execute_result",
          "data": {
            "text/plain": "'HELLO'"
          },
          "metadata": {}
        }
      ],
      "id": "a2ce9240-c7de-4c4c-b047-e8e1c04e431e"
    },
    {
      "cell_type": "code",
      "source": "# optional challenge - fizzbuzz\n# you will need to use both iteration and control flow \n# go through all numbers from 1 to 100 in order\n# if the number is a multiple of 3, print fizz\n# if the number is a multiple of 5, print buzz\n# if the number is a multiple of 3 and 5, print fizzbuzz and NOTHING ELSE\n# if the number is neither a multiple of 3 nor a multiple of 5, print the number\nnum = list(range(1,101))\n\nfor i in range(len(num)):\n    if num[i] % 3 ==0 and num[i] % 5 != 0:\n        print(\"fizz\")\n    elif num[i] % 5 == 0 and num[i] % 3 != 0:\n        print(\"buzz\")\n    elif num[i]%3 == 0 and num[i]%5 == 0:\n        print(\"fizzbuzz\")\n    else:\n        print(num[i])",
      "metadata": {
        "trusted": true
      },
      "execution_count": 36,
      "outputs": [
        {
          "name": "stdout",
          "text": "1\n2\nfizz\n4\nbuzz\nfizz\n7\n8\nfizz\nbuzz\n11\nfizz\n13\n14\nfizzbuzz\n16\n17\nfizz\n19\nbuzz\nfizz\n22\n23\nfizz\nbuzz\n26\nfizz\n28\n29\nfizzbuzz\n31\n32\nfizz\n34\nbuzz\nfizz\n37\n38\nfizz\nbuzz\n41\nfizz\n43\n44\nfizzbuzz\n46\n47\nfizz\n49\nbuzz\nfizz\n52\n53\nfizz\nbuzz\n56\nfizz\n58\n59\nfizzbuzz\n61\n62\nfizz\n64\nbuzz\nfizz\n67\n68\nfizz\nbuzz\n71\nfizz\n73\n74\nfizzbuzz\n76\n77\nfizz\n79\nbuzz\nfizz\n82\n83\nfizz\nbuzz\n86\nfizz\n88\n89\nfizzbuzz\n91\n92\nfizz\n94\nbuzz\nfizz\n97\n98\nfizz\nbuzz\n",
          "output_type": "stream"
        }
      ],
      "id": "f55df04e"
    },
    {
      "cell_type": "code",
      "source": "# create a dictionary that reflects the following menu pricing (taken from Ahmo's)\n# Gyro: $9 \n# Burger: $9\n# Greek Salad: $8\n# Philly Steak: $10\n\nahmos = {\"Gyro\":9.00,\"Burger\":9.00,\"Greek Salad\":8.00,\"Philly Steak\":10.00}",
      "metadata": {
        "trusted": true
      },
      "execution_count": 37,
      "outputs": [],
      "id": "78aace0b"
    },
    {
      "cell_type": "code",
      "source": "# load in the \"starbucks.csv\" dataset\n# refer to how we read the cereal.csv dataset in the tutorial\nimport pandas as pd\n\ndf = pd.read_csv(\"starbucks.csv\")\ndf.head()",
      "metadata": {
        "colab": {},
        "colab_type": "code",
        "id": "WzCQ5HOJshvA",
        "trusted": true
      },
      "execution_count": 107,
      "outputs": [
        {
          "execution_count": 107,
          "output_type": "execute_result",
          "data": {
            "text/plain": "         beverage_category       beverage      beverage_prep  calories  \\\n0                   coffee  brewed coffee              Short         3   \n1                   coffee  brewed coffee               Tall         4   \n2                   coffee  brewed coffee             Grande         5   \n3                   coffee  brewed coffee              Venti         5   \n4  classic espresso drinks     caff latte  Short Nonfat Milk        70   \n\n   total fat  trans fat  saturated fat  sodium  total carbohydrates  \\\n0        0.1        0.0            0.0       0                    5   \n1        0.1        0.0            0.0       0                   10   \n2        0.1        0.0            0.0       0                   10   \n3        0.1        0.0            0.0       0                   10   \n4        0.1        0.1            0.0       5                   75   \n\n   cholesterol  dietary fibre  sugars  protein  vitamin a  vitamin c  calcium  \\\n0            0              0       0      0.3          0          0        0   \n1            0              0       0      0.5          0          0        0   \n2            0              0       0      1.0          0          0        0   \n3            0              0       0      1.0          0          0        2   \n4           10              0       9      6.0         10          0       20   \n\n   iron  caffeine  \n0   0.0     175.0  \n1   0.0     260.0  \n2   0.0     330.0  \n3   0.0     410.0  \n4   0.0      75.0  ",
            "text/html": "<div>\n<style scoped>\n    .dataframe tbody tr th:only-of-type {\n        vertical-align: middle;\n    }\n\n    .dataframe tbody tr th {\n        vertical-align: top;\n    }\n\n    .dataframe thead th {\n        text-align: right;\n    }\n</style>\n<table border=\"1\" class=\"dataframe\">\n  <thead>\n    <tr style=\"text-align: right;\">\n      <th></th>\n      <th>beverage_category</th>\n      <th>beverage</th>\n      <th>beverage_prep</th>\n      <th>calories</th>\n      <th>total fat</th>\n      <th>trans fat</th>\n      <th>saturated fat</th>\n      <th>sodium</th>\n      <th>total carbohydrates</th>\n      <th>cholesterol</th>\n      <th>dietary fibre</th>\n      <th>sugars</th>\n      <th>protein</th>\n      <th>vitamin a</th>\n      <th>vitamin c</th>\n      <th>calcium</th>\n      <th>iron</th>\n      <th>caffeine</th>\n    </tr>\n  </thead>\n  <tbody>\n    <tr>\n      <th>0</th>\n      <td>coffee</td>\n      <td>brewed coffee</td>\n      <td>Short</td>\n      <td>3</td>\n      <td>0.1</td>\n      <td>0.0</td>\n      <td>0.0</td>\n      <td>0</td>\n      <td>5</td>\n      <td>0</td>\n      <td>0</td>\n      <td>0</td>\n      <td>0.3</td>\n      <td>0</td>\n      <td>0</td>\n      <td>0</td>\n      <td>0.0</td>\n      <td>175.0</td>\n    </tr>\n    <tr>\n      <th>1</th>\n      <td>coffee</td>\n      <td>brewed coffee</td>\n      <td>Tall</td>\n      <td>4</td>\n      <td>0.1</td>\n      <td>0.0</td>\n      <td>0.0</td>\n      <td>0</td>\n      <td>10</td>\n      <td>0</td>\n      <td>0</td>\n      <td>0</td>\n      <td>0.5</td>\n      <td>0</td>\n      <td>0</td>\n      <td>0</td>\n      <td>0.0</td>\n      <td>260.0</td>\n    </tr>\n    <tr>\n      <th>2</th>\n      <td>coffee</td>\n      <td>brewed coffee</td>\n      <td>Grande</td>\n      <td>5</td>\n      <td>0.1</td>\n      <td>0.0</td>\n      <td>0.0</td>\n      <td>0</td>\n      <td>10</td>\n      <td>0</td>\n      <td>0</td>\n      <td>0</td>\n      <td>1.0</td>\n      <td>0</td>\n      <td>0</td>\n      <td>0</td>\n      <td>0.0</td>\n      <td>330.0</td>\n    </tr>\n    <tr>\n      <th>3</th>\n      <td>coffee</td>\n      <td>brewed coffee</td>\n      <td>Venti</td>\n      <td>5</td>\n      <td>0.1</td>\n      <td>0.0</td>\n      <td>0.0</td>\n      <td>0</td>\n      <td>10</td>\n      <td>0</td>\n      <td>0</td>\n      <td>0</td>\n      <td>1.0</td>\n      <td>0</td>\n      <td>0</td>\n      <td>2</td>\n      <td>0.0</td>\n      <td>410.0</td>\n    </tr>\n    <tr>\n      <th>4</th>\n      <td>classic espresso drinks</td>\n      <td>caff latte</td>\n      <td>Short Nonfat Milk</td>\n      <td>70</td>\n      <td>0.1</td>\n      <td>0.1</td>\n      <td>0.0</td>\n      <td>5</td>\n      <td>75</td>\n      <td>10</td>\n      <td>0</td>\n      <td>9</td>\n      <td>6.0</td>\n      <td>10</td>\n      <td>0</td>\n      <td>20</td>\n      <td>0.0</td>\n      <td>75.0</td>\n    </tr>\n  </tbody>\n</table>\n</div>"
          },
          "metadata": {}
        }
      ],
      "id": "777e0dc7-bf81-47bf-abc0-da342b255543"
    },
    {
      "cell_type": "code",
      "source": "# output the calories, sugars, and protein columns only of every 40th row. \ndf.loc[::40][[\"calories\", \"sugars\", \"protein\"]]",
      "metadata": {
        "trusted": true
      },
      "execution_count": 72,
      "outputs": [
        {
          "execution_count": 72,
          "output_type": "execute_result",
          "data": {
            "text/plain": "     calories  sugars  protein\n0           3       0      0.3\n40          5       0      0.4\n80        350      58     15.0\n120       140      20      6.0\n160       110      24      2.0\n200       200      41      3.0\n240       180      35      3.0",
            "text/html": "<div>\n<style scoped>\n    .dataframe tbody tr th:only-of-type {\n        vertical-align: middle;\n    }\n\n    .dataframe tbody tr th {\n        vertical-align: top;\n    }\n\n    .dataframe thead th {\n        text-align: right;\n    }\n</style>\n<table border=\"1\" class=\"dataframe\">\n  <thead>\n    <tr style=\"text-align: right;\">\n      <th></th>\n      <th>calories</th>\n      <th>sugars</th>\n      <th>protein</th>\n    </tr>\n  </thead>\n  <tbody>\n    <tr>\n      <th>0</th>\n      <td>3</td>\n      <td>0</td>\n      <td>0.3</td>\n    </tr>\n    <tr>\n      <th>40</th>\n      <td>5</td>\n      <td>0</td>\n      <td>0.4</td>\n    </tr>\n    <tr>\n      <th>80</th>\n      <td>350</td>\n      <td>58</td>\n      <td>15.0</td>\n    </tr>\n    <tr>\n      <th>120</th>\n      <td>140</td>\n      <td>20</td>\n      <td>6.0</td>\n    </tr>\n    <tr>\n      <th>160</th>\n      <td>110</td>\n      <td>24</td>\n      <td>2.0</td>\n    </tr>\n    <tr>\n      <th>200</th>\n      <td>200</td>\n      <td>41</td>\n      <td>3.0</td>\n    </tr>\n    <tr>\n      <th>240</th>\n      <td>180</td>\n      <td>35</td>\n      <td>3.0</td>\n    </tr>\n  </tbody>\n</table>\n</div>"
          },
          "metadata": {}
        }
      ],
      "id": "68210b5f"
    },
    {
      "cell_type": "code",
      "source": "# select all rows with more than and including 400 calories\n\ndf[df[\"calories\"] >= 400]",
      "metadata": {
        "trusted": true
      },
      "execution_count": 74,
      "outputs": [
        {
          "execution_count": 74,
          "output_type": "execute_result",
          "data": {
            "text/plain": "              beverage_category  \\\n81    signature espresso drinks   \n83    signature espresso drinks   \n84    signature espresso drinks   \n85    signature espresso drinks   \n128             tazo tea drinks   \n214  frappuccino blended coffee   \n215  frappuccino blended coffee   \n216  frappuccino blended coffee   \n\n                                          beverage      beverage_prep  \\\n81   white chocolate mocha (without whipped cream)            2% Milk   \n83   white chocolate mocha (without whipped cream)  Venti Nonfat Milk   \n84   white chocolate mocha (without whipped cream)            2% Milk   \n85   white chocolate mocha (without whipped cream)            Soymilk   \n128                           tazo green tea latte            2% Milk   \n214              java chip (without whipped cream)  Venti Nonfat Milk   \n215              java chip (without whipped cream)         Whole Milk   \n216              java chip (without whipped cream)            Soymilk   \n\n     calories  total fat  trans fat  saturated fat  sodium  \\\n81        400       11.0        7.0            0.2      25   \n83        450        7.0        6.0            0.0      10   \n84        510       15.0        9.0            0.2      35   \n85        460       13.0        6.0            0.0       5   \n128       450       10.0        5.0            0.3      40   \n214       420        5.0        4.0            0.0       5   \n215       460       10.0        7.0            0.2      15   \n216       430        8.0        4.5            0.0       0   \n\n     total carbohydrates  cholesterol  dietary fibre  sugars  protein  \\\n81                   250           61              0      58     15.0   \n83                   310           78              0      74     19.0   \n84                   330           77              0      74     19.0   \n85                   290           70              1      64     16.0   \n128                  230           72              2      71     17.0   \n214                  340           90              2      84      7.0   \n215                  340           90              2      84      7.0   \n216                  330           88              3      80      6.0   \n\n     vitamin a  vitamin c  calcium  iron  caffeine  \n81          15          2       45   0.0     150.0  \n83          25          2       60   2.0     150.0  \n84          20          4       60   2.0     150.0  \n85          15          2       60  20.0     150.0  \n128         25         20       50   6.0     110.0  \n214         10          0       20  35.0     145.0  \n215          6          0       15  35.0     145.0  \n216          6          0       20  40.0     145.0  ",
            "text/html": "<div>\n<style scoped>\n    .dataframe tbody tr th:only-of-type {\n        vertical-align: middle;\n    }\n\n    .dataframe tbody tr th {\n        vertical-align: top;\n    }\n\n    .dataframe thead th {\n        text-align: right;\n    }\n</style>\n<table border=\"1\" class=\"dataframe\">\n  <thead>\n    <tr style=\"text-align: right;\">\n      <th></th>\n      <th>beverage_category</th>\n      <th>beverage</th>\n      <th>beverage_prep</th>\n      <th>calories</th>\n      <th>total fat</th>\n      <th>trans fat</th>\n      <th>saturated fat</th>\n      <th>sodium</th>\n      <th>total carbohydrates</th>\n      <th>cholesterol</th>\n      <th>dietary fibre</th>\n      <th>sugars</th>\n      <th>protein</th>\n      <th>vitamin a</th>\n      <th>vitamin c</th>\n      <th>calcium</th>\n      <th>iron</th>\n      <th>caffeine</th>\n    </tr>\n  </thead>\n  <tbody>\n    <tr>\n      <th>81</th>\n      <td>signature espresso drinks</td>\n      <td>white chocolate mocha (without whipped cream)</td>\n      <td>2% Milk</td>\n      <td>400</td>\n      <td>11.0</td>\n      <td>7.0</td>\n      <td>0.2</td>\n      <td>25</td>\n      <td>250</td>\n      <td>61</td>\n      <td>0</td>\n      <td>58</td>\n      <td>15.0</td>\n      <td>15</td>\n      <td>2</td>\n      <td>45</td>\n      <td>0.0</td>\n      <td>150.0</td>\n    </tr>\n    <tr>\n      <th>83</th>\n      <td>signature espresso drinks</td>\n      <td>white chocolate mocha (without whipped cream)</td>\n      <td>Venti Nonfat Milk</td>\n      <td>450</td>\n      <td>7.0</td>\n      <td>6.0</td>\n      <td>0.0</td>\n      <td>10</td>\n      <td>310</td>\n      <td>78</td>\n      <td>0</td>\n      <td>74</td>\n      <td>19.0</td>\n      <td>25</td>\n      <td>2</td>\n      <td>60</td>\n      <td>2.0</td>\n      <td>150.0</td>\n    </tr>\n    <tr>\n      <th>84</th>\n      <td>signature espresso drinks</td>\n      <td>white chocolate mocha (without whipped cream)</td>\n      <td>2% Milk</td>\n      <td>510</td>\n      <td>15.0</td>\n      <td>9.0</td>\n      <td>0.2</td>\n      <td>35</td>\n      <td>330</td>\n      <td>77</td>\n      <td>0</td>\n      <td>74</td>\n      <td>19.0</td>\n      <td>20</td>\n      <td>4</td>\n      <td>60</td>\n      <td>2.0</td>\n      <td>150.0</td>\n    </tr>\n    <tr>\n      <th>85</th>\n      <td>signature espresso drinks</td>\n      <td>white chocolate mocha (without whipped cream)</td>\n      <td>Soymilk</td>\n      <td>460</td>\n      <td>13.0</td>\n      <td>6.0</td>\n      <td>0.0</td>\n      <td>5</td>\n      <td>290</td>\n      <td>70</td>\n      <td>1</td>\n      <td>64</td>\n      <td>16.0</td>\n      <td>15</td>\n      <td>2</td>\n      <td>60</td>\n      <td>20.0</td>\n      <td>150.0</td>\n    </tr>\n    <tr>\n      <th>128</th>\n      <td>tazo tea drinks</td>\n      <td>tazo green tea latte</td>\n      <td>2% Milk</td>\n      <td>450</td>\n      <td>10.0</td>\n      <td>5.0</td>\n      <td>0.3</td>\n      <td>40</td>\n      <td>230</td>\n      <td>72</td>\n      <td>2</td>\n      <td>71</td>\n      <td>17.0</td>\n      <td>25</td>\n      <td>20</td>\n      <td>50</td>\n      <td>6.0</td>\n      <td>110.0</td>\n    </tr>\n    <tr>\n      <th>214</th>\n      <td>frappuccino blended coffee</td>\n      <td>java chip (without whipped cream)</td>\n      <td>Venti Nonfat Milk</td>\n      <td>420</td>\n      <td>5.0</td>\n      <td>4.0</td>\n      <td>0.0</td>\n      <td>5</td>\n      <td>340</td>\n      <td>90</td>\n      <td>2</td>\n      <td>84</td>\n      <td>7.0</td>\n      <td>10</td>\n      <td>0</td>\n      <td>20</td>\n      <td>35.0</td>\n      <td>145.0</td>\n    </tr>\n    <tr>\n      <th>215</th>\n      <td>frappuccino blended coffee</td>\n      <td>java chip (without whipped cream)</td>\n      <td>Whole Milk</td>\n      <td>460</td>\n      <td>10.0</td>\n      <td>7.0</td>\n      <td>0.2</td>\n      <td>15</td>\n      <td>340</td>\n      <td>90</td>\n      <td>2</td>\n      <td>84</td>\n      <td>7.0</td>\n      <td>6</td>\n      <td>0</td>\n      <td>15</td>\n      <td>35.0</td>\n      <td>145.0</td>\n    </tr>\n    <tr>\n      <th>216</th>\n      <td>frappuccino blended coffee</td>\n      <td>java chip (without whipped cream)</td>\n      <td>Soymilk</td>\n      <td>430</td>\n      <td>8.0</td>\n      <td>4.5</td>\n      <td>0.0</td>\n      <td>0</td>\n      <td>330</td>\n      <td>88</td>\n      <td>3</td>\n      <td>80</td>\n      <td>6.0</td>\n      <td>6</td>\n      <td>0</td>\n      <td>20</td>\n      <td>40.0</td>\n      <td>145.0</td>\n    </tr>\n  </tbody>\n</table>\n</div>"
          },
          "metadata": {}
        }
      ],
      "id": "ac0f0c12"
    },
    {
      "cell_type": "code",
      "source": "# select all rows whose vitamin c content is higher than the iron content\n\ndf[df[\"vitamin c\"]>df[\"iron\"]]",
      "metadata": {
        "trusted": true
      },
      "execution_count": 75,
      "outputs": [
        {
          "execution_count": 75,
          "output_type": "execute_result",
          "data": {
            "text/plain": "             beverage_category  \\\n11     classic espresso drinks   \n14     classic espresso drinks   \n35     classic espresso drinks   \n38     classic espresso drinks   \n69   signature espresso drinks   \n72   signature espresso drinks   \n75   signature espresso drinks   \n77   signature espresso drinks   \n78   signature espresso drinks   \n81   signature espresso drinks   \n84   signature espresso drinks   \n118            tazo tea drinks   \n119            tazo tea drinks   \n121            tazo tea drinks   \n122            tazo tea drinks   \n124            tazo tea drinks   \n125            tazo tea drinks   \n127            tazo tea drinks   \n128            tazo tea drinks   \n169      shaken iced beverages   \n170      shaken iced beverages   \n171      shaken iced beverages   \n172                  smoothies   \n175                  smoothies   \n176                  smoothies   \n177                  smoothies   \n178                  smoothies   \n179                  smoothies   \n180                  smoothies   \n229   frappuccino blended crme   \n230   frappuccino blended crme   \n232   frappuccino blended crme   \n233   frappuccino blended crme   \n235   frappuccino blended crme   \n236   frappuccino blended crme   \n\n                                              beverage       beverage_prep  \\\n11                                          caff latte             2% Milk   \n14                                          caff latte             2% Milk   \n35            vanilla latte (or other flavoured latte)             2% Milk   \n38            vanilla latte (or other flavoured latte)             2% Milk   \n69                                   caramel macchiato             2% Milk   \n72                                   caramel macchiato             2% Milk   \n75       white chocolate mocha (without whipped cream)             2% Milk   \n77       white chocolate mocha (without whipped cream)    Tall Nonfat Milk   \n78       white chocolate mocha (without whipped cream)             2% Milk   \n81       white chocolate mocha (without whipped cream)             2% Milk   \n84       white chocolate mocha (without whipped cream)             2% Milk   \n118                               tazo green tea latte   Short Nonfat Milk   \n119                               tazo green tea latte             2% Milk   \n121                               tazo green tea latte    Tall Nonfat Milk   \n122                               tazo green tea latte             2% Milk   \n124                               tazo green tea latte  Grande Nonfat Milk   \n125                               tazo green tea latte             2% Milk   \n127                               tazo green tea latte   Venti Nonfat Milk   \n128                               tazo green tea latte             2% Milk   \n169  shaken iced tazo tea lemonade (with classic sy...                Tall   \n170  shaken iced tazo tea lemonade (with classic sy...              Grande   \n171  shaken iced tazo tea lemonade (with classic sy...               Venti   \n172                          banana chocolate smoothie  Grande Nonfat Milk   \n175                       orange mango banana smoothie  Grande Nonfat Milk   \n176                       orange mango banana smoothie             2% Milk   \n177                       orange mango banana smoothie             Soymilk   \n178                         strawberry banana smoothie  Grande Nonfat Milk   \n179                         strawberry banana smoothie             2% Milk   \n180                         strawberry banana smoothie             Soymilk   \n229         strawberries  crme (without whipped cream)    Tall Nonfat Milk   \n230         strawberries  crme (without whipped cream)          Whole Milk   \n232         strawberries  crme (without whipped cream)  Grande Nonfat Milk   \n233         strawberries  crme (without whipped cream)          Whole Milk   \n235         strawberries  crme (without whipped cream)   Venti Nonfat Milk   \n236         strawberries  crme (without whipped cream)          Whole Milk   \n\n     calories  total fat  trans fat  saturated fat  sodium  \\\n11        190        7.0        3.5            0.2      30   \n14        240        9.0        4.5            0.3      35   \n35        250        6.0        3.5            0.2      25   \n38        320        9.0        4.5            0.3      35   \n69        240        7.0        3.5            0.2      25   \n72        300        8.0        4.5            0.2      35   \n75        200        6.0        3.5            0.1      15   \n77        270        4.5        3.5            0.0       5   \n78        310        9.0        6.0            0.1      20   \n81        400       11.0        7.0            0.2      25   \n84        510       15.0        9.0            0.2      35   \n118       130        0.2        0.1            0.0       5   \n119       170        4.0        2.0            0.1      15   \n121       210        0.4        0.2            0.0       5   \n122       260        6.0        3.0            0.2      25   \n124       290        0.5        0.2            0.0      10   \n125       350        8.0        4.0            0.2      30   \n127       370        0.5        0.3            0.0      10   \n128       450       10.0        5.0            0.3      40   \n169       100        0.0        0.0            0.0       0   \n170       130        0.0        0.0            0.0       0   \n171       190        0.0        0.0            0.0       0   \n172       280        2.5        1.5            0.0       5   \n175       260        1.0        0.3            0.0       5   \n176       270        1.5        0.5            0.0       5   \n177       270        1.5        0.4            0.0       5   \n178       290        1.0        0.3            0.0       5   \n179       290        2.0        1.0            0.0       5   \n180       290        2.0        0.4            0.0       5   \n229       170        0.1        0.1            0.0       0   \n230       190        3.0        1.5            0.1      10   \n232       230        0.2        0.1            0.0       0   \n233       260        4.0        2.0            0.1      10   \n235       310        0.2        0.1            0.0       5   \n236       350        6.0        3.0            0.2      15   \n\n     total carbohydrates  cholesterol  dietary fibre  sugars  protein  \\\n11                   170           19              0      17     12.0   \n14                   220           24              0      22     16.0   \n35                   150           37              0      35     12.0   \n38                   200           46              0      44     15.0   \n69                   150           34              0      32     10.0   \n72                   180           43              0      40     13.0   \n75                   125           31              0      29      7.0   \n77                   190           47              0      45     12.0   \n78                   200           46              0      44     11.0   \n81                   250           61              0      58     15.0   \n84                   330           77              0      74     19.0   \n118                   85           26              0      25      7.0   \n119                   95           26              0      25      7.0   \n121                  125           42              1      41     11.0   \n122                  140           41              1      40     10.0   \n124                  160           57              1      56     14.0   \n125                  180           57              1      55     14.0   \n127                  200           73              2      71     18.0   \n128                  230           72              2      71     17.0   \n169                    0           25              0      24      0.1   \n170                    0           33              0      33      0.1   \n171                    0           49              0      49      0.1   \n172                  150           53              7      34     20.0   \n175                  120           54              6      37     16.0   \n176                  125           53              6      37     16.0   \n177                  120           53              6      36     15.0   \n178                  125           58              7      41     16.0   \n179                  125           58              7      41     16.0   \n180                  120           58              8      40     16.0   \n229                  140           39              0      38      3.0   \n230                  140           38              0      37      3.0   \n232                  190           53              0      52      4.0   \n233                  190           53              0      52      4.0   \n235                  260           70              0      69      6.0   \n236                  260           70              0      68      6.0   \n\n     vitamin a  vitamin c  calcium  iron    caffeine  \n11          20          2       40   0.0  150.000000  \n14          25          2       50   0.0  150.000000  \n35          20          2       35   0.0  150.000000  \n38          25          2       45   0.0  150.000000  \n69          15          2       30   0.0  150.000000  \n72          20          2       40   0.0  150.000000  \n75           8          2       25   0.0   75.000000  \n77          15          2       35   0.0   75.000000  \n78          15          2       35   0.0   75.000000  \n81          15          2       45   0.0  150.000000  \n84          20          4       60   2.0  150.000000  \n118         10          4       20   2.0   25.000000  \n119         10          6       20   2.0   25.000000  \n121         20         10       35   4.0   55.000000  \n122         15         10       35   4.0   55.000000  \n124         25         15       45   4.0   80.000000  \n125         20         15       45   4.0   80.000000  \n127         30         20       60   6.0  110.000000  \n128         25         20       50   6.0  110.000000  \n169          0         10        0   0.0   89.520548  \n170          0         15        0   0.0   89.520548  \n171          0         20        0   0.0   89.520548  \n172         10         15       20   0.0   89.520548  \n175         50         80       10  30.0   15.000000  \n176         50         80       10   6.0    0.000000  \n177         50         80       10   6.0    0.000000  \n178          4        100       10   8.0    0.000000  \n179          4        100       10   8.0    0.000000  \n180          2        100       10   8.0    0.000000  \n229          6          6       10   2.0    0.000000  \n230          4          6       10   2.0    0.000000  \n232          8          6       15   4.0    0.000000  \n233          6          6       15   4.0    0.000000  \n235         10          8       20   4.0    0.000000  \n236          8          8       20   4.0    0.000000  ",
            "text/html": "<div>\n<style scoped>\n    .dataframe tbody tr th:only-of-type {\n        vertical-align: middle;\n    }\n\n    .dataframe tbody tr th {\n        vertical-align: top;\n    }\n\n    .dataframe thead th {\n        text-align: right;\n    }\n</style>\n<table border=\"1\" class=\"dataframe\">\n  <thead>\n    <tr style=\"text-align: right;\">\n      <th></th>\n      <th>beverage_category</th>\n      <th>beverage</th>\n      <th>beverage_prep</th>\n      <th>calories</th>\n      <th>total fat</th>\n      <th>trans fat</th>\n      <th>saturated fat</th>\n      <th>sodium</th>\n      <th>total carbohydrates</th>\n      <th>cholesterol</th>\n      <th>dietary fibre</th>\n      <th>sugars</th>\n      <th>protein</th>\n      <th>vitamin a</th>\n      <th>vitamin c</th>\n      <th>calcium</th>\n      <th>iron</th>\n      <th>caffeine</th>\n    </tr>\n  </thead>\n  <tbody>\n    <tr>\n      <th>11</th>\n      <td>classic espresso drinks</td>\n      <td>caff latte</td>\n      <td>2% Milk</td>\n      <td>190</td>\n      <td>7.0</td>\n      <td>3.5</td>\n      <td>0.2</td>\n      <td>30</td>\n      <td>170</td>\n      <td>19</td>\n      <td>0</td>\n      <td>17</td>\n      <td>12.0</td>\n      <td>20</td>\n      <td>2</td>\n      <td>40</td>\n      <td>0.0</td>\n      <td>150.000000</td>\n    </tr>\n    <tr>\n      <th>14</th>\n      <td>classic espresso drinks</td>\n      <td>caff latte</td>\n      <td>2% Milk</td>\n      <td>240</td>\n      <td>9.0</td>\n      <td>4.5</td>\n      <td>0.3</td>\n      <td>35</td>\n      <td>220</td>\n      <td>24</td>\n      <td>0</td>\n      <td>22</td>\n      <td>16.0</td>\n      <td>25</td>\n      <td>2</td>\n      <td>50</td>\n      <td>0.0</td>\n      <td>150.000000</td>\n    </tr>\n    <tr>\n      <th>35</th>\n      <td>classic espresso drinks</td>\n      <td>vanilla latte (or other flavoured latte)</td>\n      <td>2% Milk</td>\n      <td>250</td>\n      <td>6.0</td>\n      <td>3.5</td>\n      <td>0.2</td>\n      <td>25</td>\n      <td>150</td>\n      <td>37</td>\n      <td>0</td>\n      <td>35</td>\n      <td>12.0</td>\n      <td>20</td>\n      <td>2</td>\n      <td>35</td>\n      <td>0.0</td>\n      <td>150.000000</td>\n    </tr>\n    <tr>\n      <th>38</th>\n      <td>classic espresso drinks</td>\n      <td>vanilla latte (or other flavoured latte)</td>\n      <td>2% Milk</td>\n      <td>320</td>\n      <td>9.0</td>\n      <td>4.5</td>\n      <td>0.3</td>\n      <td>35</td>\n      <td>200</td>\n      <td>46</td>\n      <td>0</td>\n      <td>44</td>\n      <td>15.0</td>\n      <td>25</td>\n      <td>2</td>\n      <td>45</td>\n      <td>0.0</td>\n      <td>150.000000</td>\n    </tr>\n    <tr>\n      <th>69</th>\n      <td>signature espresso drinks</td>\n      <td>caramel macchiato</td>\n      <td>2% Milk</td>\n      <td>240</td>\n      <td>7.0</td>\n      <td>3.5</td>\n      <td>0.2</td>\n      <td>25</td>\n      <td>150</td>\n      <td>34</td>\n      <td>0</td>\n      <td>32</td>\n      <td>10.0</td>\n      <td>15</td>\n      <td>2</td>\n      <td>30</td>\n      <td>0.0</td>\n      <td>150.000000</td>\n    </tr>\n    <tr>\n      <th>72</th>\n      <td>signature espresso drinks</td>\n      <td>caramel macchiato</td>\n      <td>2% Milk</td>\n      <td>300</td>\n      <td>8.0</td>\n      <td>4.5</td>\n      <td>0.2</td>\n      <td>35</td>\n      <td>180</td>\n      <td>43</td>\n      <td>0</td>\n      <td>40</td>\n      <td>13.0</td>\n      <td>20</td>\n      <td>2</td>\n      <td>40</td>\n      <td>0.0</td>\n      <td>150.000000</td>\n    </tr>\n    <tr>\n      <th>75</th>\n      <td>signature espresso drinks</td>\n      <td>white chocolate mocha (without whipped cream)</td>\n      <td>2% Milk</td>\n      <td>200</td>\n      <td>6.0</td>\n      <td>3.5</td>\n      <td>0.1</td>\n      <td>15</td>\n      <td>125</td>\n      <td>31</td>\n      <td>0</td>\n      <td>29</td>\n      <td>7.0</td>\n      <td>8</td>\n      <td>2</td>\n      <td>25</td>\n      <td>0.0</td>\n      <td>75.000000</td>\n    </tr>\n    <tr>\n      <th>77</th>\n      <td>signature espresso drinks</td>\n      <td>white chocolate mocha (without whipped cream)</td>\n      <td>Tall Nonfat Milk</td>\n      <td>270</td>\n      <td>4.5</td>\n      <td>3.5</td>\n      <td>0.0</td>\n      <td>5</td>\n      <td>190</td>\n      <td>47</td>\n      <td>0</td>\n      <td>45</td>\n      <td>12.0</td>\n      <td>15</td>\n      <td>2</td>\n      <td>35</td>\n      <td>0.0</td>\n      <td>75.000000</td>\n    </tr>\n    <tr>\n      <th>78</th>\n      <td>signature espresso drinks</td>\n      <td>white chocolate mocha (without whipped cream)</td>\n      <td>2% Milk</td>\n      <td>310</td>\n      <td>9.0</td>\n      <td>6.0</td>\n      <td>0.1</td>\n      <td>20</td>\n      <td>200</td>\n      <td>46</td>\n      <td>0</td>\n      <td>44</td>\n      <td>11.0</td>\n      <td>15</td>\n      <td>2</td>\n      <td>35</td>\n      <td>0.0</td>\n      <td>75.000000</td>\n    </tr>\n    <tr>\n      <th>81</th>\n      <td>signature espresso drinks</td>\n      <td>white chocolate mocha (without whipped cream)</td>\n      <td>2% Milk</td>\n      <td>400</td>\n      <td>11.0</td>\n      <td>7.0</td>\n      <td>0.2</td>\n      <td>25</td>\n      <td>250</td>\n      <td>61</td>\n      <td>0</td>\n      <td>58</td>\n      <td>15.0</td>\n      <td>15</td>\n      <td>2</td>\n      <td>45</td>\n      <td>0.0</td>\n      <td>150.000000</td>\n    </tr>\n    <tr>\n      <th>84</th>\n      <td>signature espresso drinks</td>\n      <td>white chocolate mocha (without whipped cream)</td>\n      <td>2% Milk</td>\n      <td>510</td>\n      <td>15.0</td>\n      <td>9.0</td>\n      <td>0.2</td>\n      <td>35</td>\n      <td>330</td>\n      <td>77</td>\n      <td>0</td>\n      <td>74</td>\n      <td>19.0</td>\n      <td>20</td>\n      <td>4</td>\n      <td>60</td>\n      <td>2.0</td>\n      <td>150.000000</td>\n    </tr>\n    <tr>\n      <th>118</th>\n      <td>tazo tea drinks</td>\n      <td>tazo green tea latte</td>\n      <td>Short Nonfat Milk</td>\n      <td>130</td>\n      <td>0.2</td>\n      <td>0.1</td>\n      <td>0.0</td>\n      <td>5</td>\n      <td>85</td>\n      <td>26</td>\n      <td>0</td>\n      <td>25</td>\n      <td>7.0</td>\n      <td>10</td>\n      <td>4</td>\n      <td>20</td>\n      <td>2.0</td>\n      <td>25.000000</td>\n    </tr>\n    <tr>\n      <th>119</th>\n      <td>tazo tea drinks</td>\n      <td>tazo green tea latte</td>\n      <td>2% Milk</td>\n      <td>170</td>\n      <td>4.0</td>\n      <td>2.0</td>\n      <td>0.1</td>\n      <td>15</td>\n      <td>95</td>\n      <td>26</td>\n      <td>0</td>\n      <td>25</td>\n      <td>7.0</td>\n      <td>10</td>\n      <td>6</td>\n      <td>20</td>\n      <td>2.0</td>\n      <td>25.000000</td>\n    </tr>\n    <tr>\n      <th>121</th>\n      <td>tazo tea drinks</td>\n      <td>tazo green tea latte</td>\n      <td>Tall Nonfat Milk</td>\n      <td>210</td>\n      <td>0.4</td>\n      <td>0.2</td>\n      <td>0.0</td>\n      <td>5</td>\n      <td>125</td>\n      <td>42</td>\n      <td>1</td>\n      <td>41</td>\n      <td>11.0</td>\n      <td>20</td>\n      <td>10</td>\n      <td>35</td>\n      <td>4.0</td>\n      <td>55.000000</td>\n    </tr>\n    <tr>\n      <th>122</th>\n      <td>tazo tea drinks</td>\n      <td>tazo green tea latte</td>\n      <td>2% Milk</td>\n      <td>260</td>\n      <td>6.0</td>\n      <td>3.0</td>\n      <td>0.2</td>\n      <td>25</td>\n      <td>140</td>\n      <td>41</td>\n      <td>1</td>\n      <td>40</td>\n      <td>10.0</td>\n      <td>15</td>\n      <td>10</td>\n      <td>35</td>\n      <td>4.0</td>\n      <td>55.000000</td>\n    </tr>\n    <tr>\n      <th>124</th>\n      <td>tazo tea drinks</td>\n      <td>tazo green tea latte</td>\n      <td>Grande Nonfat Milk</td>\n      <td>290</td>\n      <td>0.5</td>\n      <td>0.2</td>\n      <td>0.0</td>\n      <td>10</td>\n      <td>160</td>\n      <td>57</td>\n      <td>1</td>\n      <td>56</td>\n      <td>14.0</td>\n      <td>25</td>\n      <td>15</td>\n      <td>45</td>\n      <td>4.0</td>\n      <td>80.000000</td>\n    </tr>\n    <tr>\n      <th>125</th>\n      <td>tazo tea drinks</td>\n      <td>tazo green tea latte</td>\n      <td>2% Milk</td>\n      <td>350</td>\n      <td>8.0</td>\n      <td>4.0</td>\n      <td>0.2</td>\n      <td>30</td>\n      <td>180</td>\n      <td>57</td>\n      <td>1</td>\n      <td>55</td>\n      <td>14.0</td>\n      <td>20</td>\n      <td>15</td>\n      <td>45</td>\n      <td>4.0</td>\n      <td>80.000000</td>\n    </tr>\n    <tr>\n      <th>127</th>\n      <td>tazo tea drinks</td>\n      <td>tazo green tea latte</td>\n      <td>Venti Nonfat Milk</td>\n      <td>370</td>\n      <td>0.5</td>\n      <td>0.3</td>\n      <td>0.0</td>\n      <td>10</td>\n      <td>200</td>\n      <td>73</td>\n      <td>2</td>\n      <td>71</td>\n      <td>18.0</td>\n      <td>30</td>\n      <td>20</td>\n      <td>60</td>\n      <td>6.0</td>\n      <td>110.000000</td>\n    </tr>\n    <tr>\n      <th>128</th>\n      <td>tazo tea drinks</td>\n      <td>tazo green tea latte</td>\n      <td>2% Milk</td>\n      <td>450</td>\n      <td>10.0</td>\n      <td>5.0</td>\n      <td>0.3</td>\n      <td>40</td>\n      <td>230</td>\n      <td>72</td>\n      <td>2</td>\n      <td>71</td>\n      <td>17.0</td>\n      <td>25</td>\n      <td>20</td>\n      <td>50</td>\n      <td>6.0</td>\n      <td>110.000000</td>\n    </tr>\n    <tr>\n      <th>169</th>\n      <td>shaken iced beverages</td>\n      <td>shaken iced tazo tea lemonade (with classic sy...</td>\n      <td>Tall</td>\n      <td>100</td>\n      <td>0.0</td>\n      <td>0.0</td>\n      <td>0.0</td>\n      <td>0</td>\n      <td>0</td>\n      <td>25</td>\n      <td>0</td>\n      <td>24</td>\n      <td>0.1</td>\n      <td>0</td>\n      <td>10</td>\n      <td>0</td>\n      <td>0.0</td>\n      <td>89.520548</td>\n    </tr>\n    <tr>\n      <th>170</th>\n      <td>shaken iced beverages</td>\n      <td>shaken iced tazo tea lemonade (with classic sy...</td>\n      <td>Grande</td>\n      <td>130</td>\n      <td>0.0</td>\n      <td>0.0</td>\n      <td>0.0</td>\n      <td>0</td>\n      <td>0</td>\n      <td>33</td>\n      <td>0</td>\n      <td>33</td>\n      <td>0.1</td>\n      <td>0</td>\n      <td>15</td>\n      <td>0</td>\n      <td>0.0</td>\n      <td>89.520548</td>\n    </tr>\n    <tr>\n      <th>171</th>\n      <td>shaken iced beverages</td>\n      <td>shaken iced tazo tea lemonade (with classic sy...</td>\n      <td>Venti</td>\n      <td>190</td>\n      <td>0.0</td>\n      <td>0.0</td>\n      <td>0.0</td>\n      <td>0</td>\n      <td>0</td>\n      <td>49</td>\n      <td>0</td>\n      <td>49</td>\n      <td>0.1</td>\n      <td>0</td>\n      <td>20</td>\n      <td>0</td>\n      <td>0.0</td>\n      <td>89.520548</td>\n    </tr>\n    <tr>\n      <th>172</th>\n      <td>smoothies</td>\n      <td>banana chocolate smoothie</td>\n      <td>Grande Nonfat Milk</td>\n      <td>280</td>\n      <td>2.5</td>\n      <td>1.5</td>\n      <td>0.0</td>\n      <td>5</td>\n      <td>150</td>\n      <td>53</td>\n      <td>7</td>\n      <td>34</td>\n      <td>20.0</td>\n      <td>10</td>\n      <td>15</td>\n      <td>20</td>\n      <td>0.0</td>\n      <td>89.520548</td>\n    </tr>\n    <tr>\n      <th>175</th>\n      <td>smoothies</td>\n      <td>orange mango banana smoothie</td>\n      <td>Grande Nonfat Milk</td>\n      <td>260</td>\n      <td>1.0</td>\n      <td>0.3</td>\n      <td>0.0</td>\n      <td>5</td>\n      <td>120</td>\n      <td>54</td>\n      <td>6</td>\n      <td>37</td>\n      <td>16.0</td>\n      <td>50</td>\n      <td>80</td>\n      <td>10</td>\n      <td>30.0</td>\n      <td>15.000000</td>\n    </tr>\n    <tr>\n      <th>176</th>\n      <td>smoothies</td>\n      <td>orange mango banana smoothie</td>\n      <td>2% Milk</td>\n      <td>270</td>\n      <td>1.5</td>\n      <td>0.5</td>\n      <td>0.0</td>\n      <td>5</td>\n      <td>125</td>\n      <td>53</td>\n      <td>6</td>\n      <td>37</td>\n      <td>16.0</td>\n      <td>50</td>\n      <td>80</td>\n      <td>10</td>\n      <td>6.0</td>\n      <td>0.000000</td>\n    </tr>\n    <tr>\n      <th>177</th>\n      <td>smoothies</td>\n      <td>orange mango banana smoothie</td>\n      <td>Soymilk</td>\n      <td>270</td>\n      <td>1.5</td>\n      <td>0.4</td>\n      <td>0.0</td>\n      <td>5</td>\n      <td>120</td>\n      <td>53</td>\n      <td>6</td>\n      <td>36</td>\n      <td>15.0</td>\n      <td>50</td>\n      <td>80</td>\n      <td>10</td>\n      <td>6.0</td>\n      <td>0.000000</td>\n    </tr>\n    <tr>\n      <th>178</th>\n      <td>smoothies</td>\n      <td>strawberry banana smoothie</td>\n      <td>Grande Nonfat Milk</td>\n      <td>290</td>\n      <td>1.0</td>\n      <td>0.3</td>\n      <td>0.0</td>\n      <td>5</td>\n      <td>125</td>\n      <td>58</td>\n      <td>7</td>\n      <td>41</td>\n      <td>16.0</td>\n      <td>4</td>\n      <td>100</td>\n      <td>10</td>\n      <td>8.0</td>\n      <td>0.000000</td>\n    </tr>\n    <tr>\n      <th>179</th>\n      <td>smoothies</td>\n      <td>strawberry banana smoothie</td>\n      <td>2% Milk</td>\n      <td>290</td>\n      <td>2.0</td>\n      <td>1.0</td>\n      <td>0.0</td>\n      <td>5</td>\n      <td>125</td>\n      <td>58</td>\n      <td>7</td>\n      <td>41</td>\n      <td>16.0</td>\n      <td>4</td>\n      <td>100</td>\n      <td>10</td>\n      <td>8.0</td>\n      <td>0.000000</td>\n    </tr>\n    <tr>\n      <th>180</th>\n      <td>smoothies</td>\n      <td>strawberry banana smoothie</td>\n      <td>Soymilk</td>\n      <td>290</td>\n      <td>2.0</td>\n      <td>0.4</td>\n      <td>0.0</td>\n      <td>5</td>\n      <td>120</td>\n      <td>58</td>\n      <td>8</td>\n      <td>40</td>\n      <td>16.0</td>\n      <td>2</td>\n      <td>100</td>\n      <td>10</td>\n      <td>8.0</td>\n      <td>0.000000</td>\n    </tr>\n    <tr>\n      <th>229</th>\n      <td>frappuccino blended crme</td>\n      <td>strawberries  crme (without whipped cream)</td>\n      <td>Tall Nonfat Milk</td>\n      <td>170</td>\n      <td>0.1</td>\n      <td>0.1</td>\n      <td>0.0</td>\n      <td>0</td>\n      <td>140</td>\n      <td>39</td>\n      <td>0</td>\n      <td>38</td>\n      <td>3.0</td>\n      <td>6</td>\n      <td>6</td>\n      <td>10</td>\n      <td>2.0</td>\n      <td>0.000000</td>\n    </tr>\n    <tr>\n      <th>230</th>\n      <td>frappuccino blended crme</td>\n      <td>strawberries  crme (without whipped cream)</td>\n      <td>Whole Milk</td>\n      <td>190</td>\n      <td>3.0</td>\n      <td>1.5</td>\n      <td>0.1</td>\n      <td>10</td>\n      <td>140</td>\n      <td>38</td>\n      <td>0</td>\n      <td>37</td>\n      <td>3.0</td>\n      <td>4</td>\n      <td>6</td>\n      <td>10</td>\n      <td>2.0</td>\n      <td>0.000000</td>\n    </tr>\n    <tr>\n      <th>232</th>\n      <td>frappuccino blended crme</td>\n      <td>strawberries  crme (without whipped cream)</td>\n      <td>Grande Nonfat Milk</td>\n      <td>230</td>\n      <td>0.2</td>\n      <td>0.1</td>\n      <td>0.0</td>\n      <td>0</td>\n      <td>190</td>\n      <td>53</td>\n      <td>0</td>\n      <td>52</td>\n      <td>4.0</td>\n      <td>8</td>\n      <td>6</td>\n      <td>15</td>\n      <td>4.0</td>\n      <td>0.000000</td>\n    </tr>\n    <tr>\n      <th>233</th>\n      <td>frappuccino blended crme</td>\n      <td>strawberries  crme (without whipped cream)</td>\n      <td>Whole Milk</td>\n      <td>260</td>\n      <td>4.0</td>\n      <td>2.0</td>\n      <td>0.1</td>\n      <td>10</td>\n      <td>190</td>\n      <td>53</td>\n      <td>0</td>\n      <td>52</td>\n      <td>4.0</td>\n      <td>6</td>\n      <td>6</td>\n      <td>15</td>\n      <td>4.0</td>\n      <td>0.000000</td>\n    </tr>\n    <tr>\n      <th>235</th>\n      <td>frappuccino blended crme</td>\n      <td>strawberries  crme (without whipped cream)</td>\n      <td>Venti Nonfat Milk</td>\n      <td>310</td>\n      <td>0.2</td>\n      <td>0.1</td>\n      <td>0.0</td>\n      <td>5</td>\n      <td>260</td>\n      <td>70</td>\n      <td>0</td>\n      <td>69</td>\n      <td>6.0</td>\n      <td>10</td>\n      <td>8</td>\n      <td>20</td>\n      <td>4.0</td>\n      <td>0.000000</td>\n    </tr>\n    <tr>\n      <th>236</th>\n      <td>frappuccino blended crme</td>\n      <td>strawberries  crme (without whipped cream)</td>\n      <td>Whole Milk</td>\n      <td>350</td>\n      <td>6.0</td>\n      <td>3.0</td>\n      <td>0.2</td>\n      <td>15</td>\n      <td>260</td>\n      <td>70</td>\n      <td>0</td>\n      <td>68</td>\n      <td>6.0</td>\n      <td>8</td>\n      <td>8</td>\n      <td>20</td>\n      <td>4.0</td>\n      <td>0.000000</td>\n    </tr>\n  </tbody>\n</table>\n</div>"
          },
          "metadata": {}
        }
      ],
      "id": "ee8f8241"
    },
    {
      "cell_type": "code",
      "source": "# create a new column containing the caffeine per calories of each drink\n\ndf[\"caffeine per calories\"] = df[\"caffeine\"]/df[\"calories\"]\ndf.head()",
      "metadata": {
        "trusted": true
      },
      "execution_count": 77,
      "outputs": [
        {
          "execution_count": 77,
          "output_type": "execute_result",
          "data": {
            "text/plain": "         beverage_category       beverage      beverage_prep  calories  \\\n0                   coffee  brewed coffee              Short         3   \n1                   coffee  brewed coffee               Tall         4   \n2                   coffee  brewed coffee             Grande         5   \n3                   coffee  brewed coffee              Venti         5   \n4  classic espresso drinks     caff latte  Short Nonfat Milk        70   \n\n   total fat  trans fat  saturated fat  sodium  total carbohydrates  \\\n0        0.1        0.0            0.0       0                    5   \n1        0.1        0.0            0.0       0                   10   \n2        0.1        0.0            0.0       0                   10   \n3        0.1        0.0            0.0       0                   10   \n4        0.1        0.1            0.0       5                   75   \n\n   cholesterol  dietary fibre  sugars  protein  vitamin a  vitamin c  calcium  \\\n0            0              0       0      0.3          0          0        0   \n1            0              0       0      0.5          0          0        0   \n2            0              0       0      1.0          0          0        0   \n3            0              0       0      1.0          0          0        2   \n4           10              0       9      6.0         10          0       20   \n\n   iron  caffeine  caffeine per calories  \n0   0.0     175.0              58.333333  \n1   0.0     260.0              65.000000  \n2   0.0     330.0              66.000000  \n3   0.0     410.0              82.000000  \n4   0.0      75.0               1.071429  ",
            "text/html": "<div>\n<style scoped>\n    .dataframe tbody tr th:only-of-type {\n        vertical-align: middle;\n    }\n\n    .dataframe tbody tr th {\n        vertical-align: top;\n    }\n\n    .dataframe thead th {\n        text-align: right;\n    }\n</style>\n<table border=\"1\" class=\"dataframe\">\n  <thead>\n    <tr style=\"text-align: right;\">\n      <th></th>\n      <th>beverage_category</th>\n      <th>beverage</th>\n      <th>beverage_prep</th>\n      <th>calories</th>\n      <th>total fat</th>\n      <th>trans fat</th>\n      <th>saturated fat</th>\n      <th>sodium</th>\n      <th>total carbohydrates</th>\n      <th>cholesterol</th>\n      <th>dietary fibre</th>\n      <th>sugars</th>\n      <th>protein</th>\n      <th>vitamin a</th>\n      <th>vitamin c</th>\n      <th>calcium</th>\n      <th>iron</th>\n      <th>caffeine</th>\n      <th>caffeine per calories</th>\n    </tr>\n  </thead>\n  <tbody>\n    <tr>\n      <th>0</th>\n      <td>coffee</td>\n      <td>brewed coffee</td>\n      <td>Short</td>\n      <td>3</td>\n      <td>0.1</td>\n      <td>0.0</td>\n      <td>0.0</td>\n      <td>0</td>\n      <td>5</td>\n      <td>0</td>\n      <td>0</td>\n      <td>0</td>\n      <td>0.3</td>\n      <td>0</td>\n      <td>0</td>\n      <td>0</td>\n      <td>0.0</td>\n      <td>175.0</td>\n      <td>58.333333</td>\n    </tr>\n    <tr>\n      <th>1</th>\n      <td>coffee</td>\n      <td>brewed coffee</td>\n      <td>Tall</td>\n      <td>4</td>\n      <td>0.1</td>\n      <td>0.0</td>\n      <td>0.0</td>\n      <td>0</td>\n      <td>10</td>\n      <td>0</td>\n      <td>0</td>\n      <td>0</td>\n      <td>0.5</td>\n      <td>0</td>\n      <td>0</td>\n      <td>0</td>\n      <td>0.0</td>\n      <td>260.0</td>\n      <td>65.000000</td>\n    </tr>\n    <tr>\n      <th>2</th>\n      <td>coffee</td>\n      <td>brewed coffee</td>\n      <td>Grande</td>\n      <td>5</td>\n      <td>0.1</td>\n      <td>0.0</td>\n      <td>0.0</td>\n      <td>0</td>\n      <td>10</td>\n      <td>0</td>\n      <td>0</td>\n      <td>0</td>\n      <td>1.0</td>\n      <td>0</td>\n      <td>0</td>\n      <td>0</td>\n      <td>0.0</td>\n      <td>330.0</td>\n      <td>66.000000</td>\n    </tr>\n    <tr>\n      <th>3</th>\n      <td>coffee</td>\n      <td>brewed coffee</td>\n      <td>Venti</td>\n      <td>5</td>\n      <td>0.1</td>\n      <td>0.0</td>\n      <td>0.0</td>\n      <td>0</td>\n      <td>10</td>\n      <td>0</td>\n      <td>0</td>\n      <td>0</td>\n      <td>1.0</td>\n      <td>0</td>\n      <td>0</td>\n      <td>2</td>\n      <td>0.0</td>\n      <td>410.0</td>\n      <td>82.000000</td>\n    </tr>\n    <tr>\n      <th>4</th>\n      <td>classic espresso drinks</td>\n      <td>caff latte</td>\n      <td>Short Nonfat Milk</td>\n      <td>70</td>\n      <td>0.1</td>\n      <td>0.1</td>\n      <td>0.0</td>\n      <td>5</td>\n      <td>75</td>\n      <td>10</td>\n      <td>0</td>\n      <td>9</td>\n      <td>6.0</td>\n      <td>10</td>\n      <td>0</td>\n      <td>20</td>\n      <td>0.0</td>\n      <td>75.0</td>\n      <td>1.071429</td>\n    </tr>\n  </tbody>\n</table>\n</div>"
          },
          "metadata": {}
        }
      ],
      "id": "d4de48bb"
    },
    {
      "cell_type": "code",
      "source": "# what is the average calorie across all items?\ndf[\"calories\"].mean()",
      "metadata": {
        "colab": {},
        "colab_type": "code",
        "id": "rIoxaSxHshvB",
        "trusted": true
      },
      "execution_count": 78,
      "outputs": [
        {
          "execution_count": 78,
          "output_type": "execute_result",
          "data": {
            "text/plain": "193.87190082644628"
          },
          "metadata": {}
        }
      ],
      "id": "510aac6b-e67c-4f9f-9354-64e891a90d35"
    },
    {
      "cell_type": "code",
      "source": "# how many different categories of beverages are there?\nlen(df[\"beverage_category\"].unique())",
      "metadata": {
        "colab": {},
        "colab_type": "code",
        "id": "ABX7i49FshvD",
        "trusted": true
      },
      "execution_count": 88,
      "outputs": [
        {
          "execution_count": 94,
          "output_type": "execute_result",
          "data": {
            "text/plain": "9"
          },
          "metadata": {}
        }
      ],
      "id": "982cd2b2-317e-4ebc-a987-d573c7513242"
    },
    {
      "cell_type": "code",
      "source": "# what is the average # calories for each beverage category?\n\ndf.groupby([\"beverage_category\"])[\"calories\"].mean()",
      "metadata": {
        "colab": {},
        "colab_type": "code",
        "id": "P9QatZAzshvE",
        "trusted": true
      },
      "execution_count": 108,
      "outputs": [
        {
          "execution_count": 108,
          "output_type": "execute_result",
          "data": {
            "text/plain": "beverage_category\nclassic espresso drinks             140.172414\ncoffee                                4.250000\nfrappuccino blended coffee          276.944444\nfrappuccino blended crme            233.076923\nfrappuccino light blended coffee    162.500000\nshaken iced beverages               114.444444\nsignature espresso drinks           250.000000\nsmoothies                           282.222222\ntazo tea drinks                     177.307692\nName: calories, dtype: float64"
          },
          "metadata": {}
        }
      ],
      "id": "20a1feeb-ae82-4ff9-966d-e9b9988b7470"
    },
    {
      "cell_type": "code",
      "source": "# plot the distribution of the number of calories in drinks with a histogram\n",
      "metadata": {},
      "execution_count": null,
      "outputs": [],
      "id": "b12607d8-82c2-4120-969b-3c926a6aebf6"
    },
    {
      "cell_type": "code",
      "source": "# plot calories against total fat with a scatterplot\n",
      "metadata": {},
      "execution_count": null,
      "outputs": [],
      "id": "b57f2186-ef7d-419d-91f6-fd2c643f9b58"
    }
  ]
}